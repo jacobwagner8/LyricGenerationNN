{
 "cells": [
  {
   "cell_type": "markdown",
   "metadata": {},
   "source": [
    "The original codebase is thanks to Robbie Barrat who so graciously put his code on github at:\n",
    "https://github.com/robbiebarrat/rapping-neural-network"
   ]
  },
  {
   "cell_type": "code",
   "execution_count": 38,
   "metadata": {},
   "outputs": [],
   "source": [
    "def replace(lyrics):\n",
    "    lyrics = lyrics.replace(\"Chorus:\", \"\")\n",
    "    lyrics = lyrics.replace(\"[Chorus]\", \"\")\n",
    "    lyrics = lyrics.replace(\"Verse 1:\", \"\")\n",
    "    lyrics = lyrics.replace(\"Verse 2:\", \"\")\n",
    "    lyrics = lyrics.replace(\"Verse 3:\", \"\")\n",
    "    lyrics = lyrics.replace(\"Verse 1\", \"\")\n",
    "    lyrics = lyrics.replace(\"Verse 2\", \"\")\n",
    "    lyrics = lyrics.replace(\"Verse 3\", \"\")\n",
    "    lyrics = lyrics.replace(\"[Verse 1]\", \"\")\n",
    "    lyrics = lyrics.replace(\"[Verse 2]\", \"\")\n",
    "    lyrics = lyrics.replace(\"[Verse 3]\", \"\")\n",
    "    lyrics = lyrics.replace(\"(Verse 1)\", \"\")\n",
    "    lyrics = lyrics.replace(\"(Verse 2)\", \"\")\n",
    "    lyrics = lyrics.replace(\"(Chorus)\", \"\")\n",
    "    lyrics = lyrics.replace(\"Intro:\", \"\")\n",
    "    lyrics = lyrics.replace(\"Outro\", \"\")\n",
    "    lyrics = lyrics.replace(\"2nd verse:\", \"\")\n",
    "    lyrics = lyrics.replace(\"1st verse:\", \"\")\n",
    "    lyrics = lyrics.replace(\"[ chorus ]\", \"\")\n",
    "    lyrics = lyrics.replace(\"[]\", \"\")\n",
    "    lyrics = lyrics.replace(\"(chorus)\", \"\")\n",
    "    lyrics = lyrics.replace(\"(horns)...\", \"\")\n",
    "    return lyrics"
   ]
  },
  {
   "cell_type": "code",
   "execution_count": 43,
   "metadata": {},
   "outputs": [],
   "source": [
    "import csv\n",
    "\n",
    "LYRICS_DIR = '/Users/jacobwagner/Desktop/lyrics.csv'\n",
    "\n",
    "rapList = [\"andy-mineo\", \"action-bronson\", \"common\", \"dj-khaled\",\n",
    "          \"2-chainz\", \"bone-thugs\", \"fetty-wap\", \"chamillionaire\", \n",
    "          \"eminem\", \"blackstreet\", \"dj-jazzy-jeff\", \"50-cent\", \"ella-mai\", \n",
    "          \"asap-ferg\", \"black-eyed-peas\", \"Desiigner\", \"chris-brown\", \"dre\", \"anderson-paak\",\n",
    "          \"drake\", \"aloe-blacc\", \"21-savage\", \"bryson-tiller\", \"denzel-curry\",\n",
    "          \"2pac\", \"asap-rocky\", \"eazy-e\", \"flo-rida\", \"future\", \"childish-gambino\",\n",
    "          \"dr-dre\", \"busta-rhymes\", \"fat-jon\", \"g-eazy\", \"big-sean\", \"beastie-boys\"]\n",
    "\n",
    "fullLyrics = []\n",
    "allArtist = set()\n",
    "counter = 0\n",
    "with open(LYRICS_DIR) as csvfile:\n",
    "    readCSV = csv.reader(csvfile, delimiter=',')\n",
    "    for row in readCSV:\n",
    "        currRow = []\n",
    "        index = row[0]\n",
    "        song = row[1]\n",
    "        year = row[2]\n",
    "        artist = row[3]\n",
    "        genre = row[4]\n",
    "        lyrics = row[5]\n",
    "        \n",
    "        if (genre == \"Hip-Hop\" and artist in rapList):\n",
    "            counter += 1\n",
    "            lyrics = replace(lyrics)\n",
    "            currRow.append(index)\n",
    "            currRow.append(song)\n",
    "            currRow.append(year)\n",
    "            currRow.append(artist)\n",
    "            currRow.append(genre)\n",
    "            currRow.append(lyrics)\n",
    "\n",
    "            fullLyrics.append(currRow)\n",
    "        if counter == 4000:\n",
    "            break"
   ]
  },
  {
   "cell_type": "code",
   "execution_count": 44,
   "metadata": {},
   "outputs": [],
   "source": [
    "COMPLETED_LYRICS_DIR = '/Users/jacobwagner/Desktop/lyricsCut.txt'\n",
    "\n",
    "file1 = open(COMPLETED_LYRICS_DIR, \"w+\")\n",
    "for row in fullLyrics:\n",
    "    currLyrics = row[5]\n",
    "    file1.write(currLyrics)\n",
    "\n",
    "file1.close()"
   ]
  },
  {
   "cell_type": "code",
   "execution_count": null,
   "metadata": {},
   "outputs": [],
   "source": []
  }
 ],
 "metadata": {
  "kernelspec": {
   "display_name": "Python 3",
   "language": "python",
   "name": "python3"
  },
  "language_info": {
   "codemirror_mode": {
    "name": "ipython",
    "version": 3
   },
   "file_extension": ".py",
   "mimetype": "text/x-python",
   "name": "python",
   "nbconvert_exporter": "python",
   "pygments_lexer": "ipython3",
   "version": "3.7.3"
  }
 },
 "nbformat": 4,
 "nbformat_minor": 2
}
