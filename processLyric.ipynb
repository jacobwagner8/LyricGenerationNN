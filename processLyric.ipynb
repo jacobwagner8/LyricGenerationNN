{
 "cells": [
  {
   "cell_type": "code",
   "execution_count": 8,
   "metadata": {},
   "outputs": [],
   "source": [
    "def replace(lyrics):\n",
    "    lyrics = lyrics.replace(\"Chorus:\", \"\")\n",
    "    lyrics = lyrics.replace(\"[Chorus]\", \"\")\n",
    "    lyrics = lyrics.replace(\"Verse 1:\", \"\")\n",
    "    lyrics = lyrics.replace(\"Verse 2:\", \"\")\n",
    "    lyrics = lyrics.replace(\"Verse 3:\", \"\")\n",
    "    lyrics = lyrics.replace(\"Verse 1\", \"\")\n",
    "    lyrics = lyrics.replace(\"Verse 2\", \"\")\n",
    "    lyrics = lyrics.replace(\"Verse 3\", \"\")\n",
    "    lyrics = lyrics.replace(\"[Verse 1]\", \"\")\n",
    "    lyrics = lyrics.replace(\"[Verse 2]\", \"\")\n",
    "    lyrics = lyrics.replace(\"[Verse 3]\", \"\")\n",
    "    lyrics = lyrics.replace(\"(Verse 1)\", \"\")\n",
    "    lyrics = lyrics.replace(\"(Verse 2)\", \"\")\n",
    "    lyrics = lyrics.replace(\"(Chorus)\", \"\")\n",
    "    lyrics = lyrics.replace(\"Intro:\", \"\")\n",
    "    lyrics = lyrics.replace(\"Outro\", \"\")\n",
    "    lyrics = lyrics.replace(\"2nd verse:\", \"\")\n",
    "    lyrics = lyrics.replace(\"1st verse:\", \"\")\n",
    "    lyrics = lyrics.replace(\"[ chorus ]\", \"\")\n",
    "    lyrics = lyrics.replace(\"[]\", \"\")\n",
    "    return lyrics"
   ]
  },
  {
   "cell_type": "code",
   "execution_count": 13,
   "metadata": {},
   "outputs": [],
   "source": [
    "import csv\n",
    "\n",
    "LYRICS_DIR = '/Users/jacobwagner/Desktop/lyrics.csv'\n",
    "nameList = [\"ariana-grande\", \"beyonce-knowles\", 'adele', 'destiny-s-child', 'adam-rafferty',\n",
    "            'akon', 'the-chainsmokers', '5-seconds-of-summer', 'the-chipettes', 'bee-gees',\n",
    "           'alicia-keys', 'alessia-cara', 'billie', 'barbara-streisand', 'carly-rae-jepsen',\n",
    "           'beyonce', 'christina-aguilera', 'ashley-tisdale', 'carley-rae-jepsen', 'cher-lloyd',\n",
    "           'enrique-iglesias', 'ed-sheeran', 'chance-the-rapper', 'charli-xcx', 'demi-lovato',\n",
    "           'eileen-farrell', 'donny-marie-osmond', 'corbin-bleu', 'five-seconds-of-summer',\n",
    "           'grease', 'boy-meets-girl', 'cheetah-girls', 'dirty-dancing', 'britney-spears',\n",
    "           'bryce-vine', 'frank-ocean', 'ellie-goulding', 'christina-perri', 'ciara', 'eva',\n",
    "           'diana-ross','celine-dion', 'christopher-wilde', 'beatenberg', 'dua-lipa', 'adrianna-foster',\n",
    "           'bewitched', 'fifth-harmony', 'andy-grammer']\n",
    "namesList = [\"ariana-grande\"]\n",
    "\n",
    "fullLyrics = []\n",
    "with open(LYRICS_DIR) as csvfile:\n",
    "    readCSV = csv.reader(csvfile, delimiter=',')\n",
    "    for row in readCSV:\n",
    "        currRow = []\n",
    "        index = row[0]\n",
    "        song = row[1]\n",
    "        year = row[2]\n",
    "        artist = row[3]\n",
    "        genre = row[4]\n",
    "        lyrics = row[5]\n",
    "        \n",
    "        if (genre == \"Pop\" and artist in namesList):\n",
    "            lyrics = replace(lyrics)\n",
    "            currRow.append(index)\n",
    "            currRow.append(song)\n",
    "            currRow.append(year)\n",
    "            currRow.append(artist)\n",
    "            currRow.append(genre)\n",
    "            currRow.append(lyrics)\n",
    "\n",
    "            fullLyrics.append(currRow)"
   ]
  },
  {
   "cell_type": "code",
   "execution_count": 14,
   "metadata": {},
   "outputs": [],
   "source": [
    "COMPLETED_LYRICS_DIR = '/Users/jacobwagner/Desktop/lyricsCut.txt'\n",
    "\n",
    "file1 = open(COMPLETED_LYRICS_DIR, \"w+\")\n",
    "for row in fullLyrics:\n",
    "    currLyrics = row[5]\n",
    "    file1.write(currLyrics)\n",
    "\n",
    "file1.close()"
   ]
  },
  {
   "cell_type": "code",
   "execution_count": 4,
   "metadata": {},
   "outputs": [
    {
     "name": "stdout",
     "output_type": "stream",
     "text": [
      "Your dataset's first 3 rap lines: \n",
      "['Oh baby, how you doing?', \"You know I'm gonna cut right to the chase\", 'Some women were made but me, myself']\n"
     ]
    }
   ],
   "source": [
    "target_url = '/Users/jacobwagner/Desktop/lyrics.txt'\n",
    "lyrics_file = open(target_url,\"r\")\n",
    "dirty_rap_source = lyrics_file.read()\n",
    "rap_source = [x.split(\"\\r\")[0] for x in dirty_rap_source.split(\"\\n\")]\n",
    "while \"\" in rap_source:\n",
    "  rap_source.remove(\"\")\n",
    "while \" \" in rap_source:\n",
    "  rap_source.remove(\" \")\n",
    "print (\"Your dataset's first 3 rap lines: \")\n",
    "print (rap_source[:3])"
   ]
  },
  {
   "cell_type": "code",
   "execution_count": null,
   "metadata": {},
   "outputs": [],
   "source": [
    "!pip install markovify\n",
    "!pip install pronouncing"
   ]
  },
  {
   "cell_type": "code",
   "execution_count": null,
   "metadata": {},
   "outputs": [],
   "source": [
    "import markovify\n",
    "import re\n",
    "import pronouncing\n",
    "import random\n",
    "import numpy as np\n",
    "import os\n",
    "from keras.models import Sequential\n",
    "from keras.layers import LSTM"
   ]
  },
  {
   "cell_type": "code",
   "execution_count": null,
   "metadata": {},
   "outputs": [],
   "source": []
  }
 ],
 "metadata": {
  "kernelspec": {
   "display_name": "Python 3",
   "language": "python",
   "name": "python3"
  },
  "language_info": {
   "codemirror_mode": {
    "name": "ipython",
    "version": 3
   },
   "file_extension": ".py",
   "mimetype": "text/x-python",
   "name": "python",
   "nbconvert_exporter": "python",
   "pygments_lexer": "ipython3",
   "version": "3.7.3"
  }
 },
 "nbformat": 4,
 "nbformat_minor": 2
}
